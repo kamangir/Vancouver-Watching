{
    "cells": [
        {
            "attachments": {},
            "cell_type": "markdown",
            "metadata": {},
            "source": [
                "# vanwatch stats"
            ]
        },
        {
            "cell_type": "code",
            "execution_count": 1,
            "metadata": {},
            "outputs": [],
            "source": [
                "import os\n",
                "os.environ[\"abcli_path_bash\"] = \"{}/git/awesome-bash-cli/bash\".format(os.getenv(\"HOME\"))"
            ]
        },
        {
            "cell_type": "code",
            "execution_count": 2,
            "metadata": {},
            "outputs": [
                {
                    "name": "stderr",
                    "output_type": "stream",
                    "text": [
                        "Found credentials in shared credentials file: ~/.aws/credentials\n",
                        "abcli-7.2642.1-unknown, built on 21 January 2024, 15:39:29\n"
                    ]
                }
            ],
            "source": [
                "import os\n",
                "\n",
                "from abcli import file\n",
                "from abcli import fullname\n",
                "from abcli.modules import objects\n",
                "from abcli import string\n",
                "from vancouver_watching.QGIS import update_cache\n",
                "import abcli.logging\n",
                "import logging\n",
                "\n",
                "logger = logging.getLogger()\n",
                "\n",
                "logger.info(f\"{fullname()}, built on {string.pretty_date()}\")"
            ]
        },
        {
            "cell_type": "code",
            "execution_count": 3,
            "metadata": {},
            "outputs": [],
            "source": [
                "object_name = \"vanwatch-cache-2024-01-07-16-18-26-91017\"\n",
                "object_path = objects.object_path(object_name)"
            ]
        },
        {
            "attachments": {},
            "cell_type": "markdown",
            "metadata": {},
            "source": [
                "---"
            ]
        },
        {
            "cell_type": "code",
            "execution_count": 4,
            "metadata": {},
            "outputs": [
                {
                    "name": "stderr",
                    "output_type": "stream",
                    "text": [
                        "update_cache(vanwatch-cache-2024-01-07-16-18-26-91017)\n",
                        "🌀 28 geojson(s) found.\n",
                        "🌀 /Users/kamangir/storage/abcli/vanwatch-cache-2024-01-07-16-18-26-91017/2023-11-12-12-03-40-85851.geojson\n"
                    ]
                },
                {
                    "name": "stdout",
                    "output_type": "stream",
                    "text": [
                        "{'2023-11-12-12-03-40-85851': datetime.datetime(2023, 11, 12, 12, 3, 40), '2023-11-19-15-08-01-41901': datetime.datetime(2023, 11, 19, 15, 8, 1), '2023-11-19-17-38-06-69168': datetime.datetime(2023, 11, 19, 17, 38, 6), '2023-12-28-14-20-44-91053': datetime.datetime(2023, 12, 28, 14, 20, 44), '2023-12-29-16-10-34-15749': datetime.datetime(2023, 12, 29, 16, 10, 34), '2023-12-31-16-45-17-10937': datetime.datetime(2023, 12, 31, 16, 45, 17), '2024-01-01-17-43-47-98250': datetime.datetime(2024, 1, 1, 17, 43, 47), '2024-01-02-18-12-52-31476': datetime.datetime(2024, 1, 2, 18, 12, 52), '2024-01-02-19-13-45-05130': datetime.datetime(2024, 1, 2, 19, 13, 45), '2024-01-04-18-14-03-33651': datetime.datetime(2024, 1, 4, 18, 14, 3), '2024-01-05-20-06-34-06452': datetime.datetime(2024, 1, 5, 20, 6, 34), '2024-01-06-16-41-45-57862': datetime.datetime(2024, 1, 6, 16, 41, 45), '2024-01-07-16-18-36-30597': datetime.datetime(2024, 1, 7, 16, 18, 36), '2024-01-11-18-18-04-55658': datetime.datetime(2024, 1, 11, 18, 18, 4), '2024-01-12-18-43-55-18705': datetime.datetime(2024, 1, 12, 18, 43, 55), '2024-01-13-16-46-35-08278': datetime.datetime(2024, 1, 13, 16, 46, 35), '2024-01-13-16-47-32-43729': datetime.datetime(2024, 1, 13, 16, 47, 32), '2024-01-13-19-21-01-29739': datetime.datetime(2024, 1, 13, 19, 21, 1), '2024-01-14-19-35-26-50127': datetime.datetime(2024, 1, 14, 19, 35, 26), '2024-01-14-19-51-38-73847': datetime.datetime(2024, 1, 14, 19, 51, 38), '2024-01-14-19-57-56-23891': datetime.datetime(2024, 1, 14, 19, 57, 56), '2024-01-15-19-26-55-77719': datetime.datetime(2024, 1, 15, 19, 26, 55), '2024-01-19-18-26-38-52179': datetime.datetime(2024, 1, 19, 18, 26, 38), '2024-01-19-18-28-30-43843': datetime.datetime(2024, 1, 19, 18, 28, 30), '2024-01-19-18-30-58-04996': datetime.datetime(2024, 1, 19, 18, 30, 58), '2024-01-19-19-20-30-70348': datetime.datetime(2024, 1, 19, 19, 20, 30), '2024-01-19-19-24-34-16020': datetime.datetime(2024, 1, 19, 19, 24, 34), '2024-01-20-16-11-49-20793': datetime.datetime(2024, 1, 20, 16, 11, 49)}\n",
                        "Index(['mapid', 'url', 'name', 'geo_local_area', 'cameras', 'label', 'car',\n",
                        "       'traffic light', 'truck', 'person', 'bus', 'bicycle', 'boat',\n",
                        "       'sports ball', 'potted plant', 'backpack', 'fire hydrant', 'umbrella',\n",
                        "       'tennis racket', 'train', 'bench', 'skateboard', 'chair', 'motorcycle',\n",
                        "       'clock', 'stop sign', 'airplane', 'handbag', 'snowboard',\n",
                        "       'parking meter', 'suitcase', 'dog', 'skis', 'scissors', 'elephant',\n",
                        "       'geometry'],\n",
                        "      dtype='object')\n"
                    ]
                },
                {
                    "data": {
                        "text/plain": [
                            "True"
                        ]
                    },
                    "execution_count": 4,
                    "metadata": {},
                    "output_type": "execute_result"
                }
            ],
            "source": [
                "update_cache(object_name)"
            ]
        },
        {
            "attachments": {},
            "cell_type": "markdown",
            "metadata": {},
            "source": [
                "---"
            ]
        },
        {
            "cell_type": "code",
            "execution_count": 5,
            "metadata": {},
            "outputs": [],
            "source": [
                "# END"
            ]
        }
    ],
    "metadata": {
        "kernelspec": {
            "display_name": "Python 3 (ipykernel)",
            "language": "python",
            "name": "python3"
        },
        "language_info": {
            "codemirror_mode": {
                "name": "ipython",
                "version": 3
            },
            "file_extension": ".py",
            "mimetype": "text/x-python",
            "name": "python",
            "nbconvert_exporter": "python",
            "pygments_lexer": "ipython3",
            "version": "3.11.7"
        },
        "toc": {
            "base_numbering": 1,
            "nav_menu": {},
            "number_sections": true,
            "sideBar": true,
            "skip_h1_title": false,
            "title_cell": "Table of Contents",
            "title_sidebar": "Contents",
            "toc_cell": false,
            "toc_position": {},
            "toc_section_display": true,
            "toc_window_display": false
        }
    },
    "nbformat": 4,
    "nbformat_minor": 2
}
