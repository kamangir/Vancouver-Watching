{
    "cells": [
        {
            "attachments": {},
            "cell_type": "markdown",
            "metadata": {},
            "source": [
                "# Ultralytics Inference Sandbox\n",
                "\n",
                "model: https://hub.ultralytics.com/models/R6nMlK6kQjSsQ76MPqQM?tab=preview"
            ]
        },
        {
            "cell_type": "code",
            "execution_count": 1,
            "metadata": {},
            "outputs": [],
            "source": [
                "# !cd ~/git/Vancouver-Watching; pip3 install -e ."
            ]
        },
        {
            "cell_type": "code",
            "execution_count": 2,
            "metadata": {},
            "outputs": [],
            "source": [
                "import os\n",
                "os.environ[\"abcli_path_bash\"] = \"{}/git/awesome-bash-cli/bash\".format(os.getenv(\"HOME\"))"
            ]
        },
        {
            "cell_type": "code",
            "execution_count": 3,
            "metadata": {},
            "outputs": [
                {
                    "name": "stderr",
                    "output_type": "stream",
                    "text": [
                        "Found credentials in shared credentials file: ~/.aws/credentials\n",
                        "abcli-7.2670.1-unknown, built on 02 February 2024, 19:08:44\n"
                    ]
                }
            ],
            "source": [
                "from abcli import file\n",
                "from abcli import fullname\n",
                "from abcli.modules import objects\n",
                "from abcli import string\n",
                "from abcli.plugins import seed\n",
                "from vancouver_watching.ai.classes import Ultralytics_API\n",
                "import matplotlib.pyplot as plt\n",
                "\n",
                "import abcli.logging\n",
                "import logging\n",
                "\n",
                "logger = logging.getLogger()\n",
                "\n",
                "logger.info(f\"{fullname()}, built on {string.pretty_date()}\")"
            ]
        },
        {
            "cell_type": "code",
            "execution_count": 4,
            "metadata": {},
            "outputs": [],
            "source": [
                "object_name = \"2024-01-11-18-18-04-55658\"\n",
                "filename = \"georgiaE.jpg\"\n",
                "\n",
                "object_path = objects.object_path(object_name)"
            ]
        },
        {
            "cell_type": "code",
            "execution_count": 5,
            "metadata": {},
            "outputs": [
                {
                    "name": "stdout",
                    "output_type": "stream",
                    "text": [
                        "\u001b[0;36m🔋 gpu: not found.\u001b[0m\n",
                        "\u001b[0;36m🚀 abcli-7.2670.1.2023-06-aws-batch-a\u001b[0m\n",
                        "\u001b[0;36mdownloading 2024-01-11-18-18-04-55658/$ ...\u001b[0m\n"
                    ]
                },
                {
                    "name": "stderr",
                    "output_type": "stream",
                    "text": [
                        "fatal error: An error occurred (404) when calling the HeadObject operation: Key \"bolt/2024-01-11-18-18-04-55658/$\" does not exist\n"
                    ]
                },
                {
                    "name": "stdout",
                    "output_type": "stream",
                    "text": [
                        "\u001b[0;36mdownload completed: 2024-01-11-18-18-04-55658 $\u001b[0m\n"
                    ]
                }
            ],
            "source": [
                "%%bash -s $object_name $filename\n",
                "source ~/git/awesome-bash-cli/bash/abcli.sh in_notebook\n",
                "\n",
                "object_name=$1\n",
                "filename=$2\n",
                "\n",
                "abcli download filename=$ $object_name"
            ]
        },
        {
            "attachments": {},
            "cell_type": "markdown",
            "metadata": {},
            "source": [
                "---"
            ]
        },
        {
            "cell_type": "code",
            "execution_count": 6,
            "metadata": {},
            "outputs": [
                {
                    "name": "stderr",
                    "output_type": "stream",
                    "text": [
                        "Ultralytics_API.url: https://api.ultralytics.com/v1/predict/R6nMlK6kQjSsQ76MPqQM\n"
                    ]
                }
            ],
            "source": [
                "ultralytics_api = Ultralytics_API(model_id = \"R6nMlK6kQjSsQ76MPqQM\")"
            ]
        },
        {
            "cell_type": "code",
            "execution_count": 7,
            "metadata": {},
            "outputs": [],
            "source": [
                "image_filename = os.path.join(object_path, filename)"
            ]
        },
        {
            "cell_type": "code",
            "execution_count": 8,
            "metadata": {},
            "outputs": [
                {
                    "name": "stderr",
                    "output_type": "stream",
                    "text": [
                        "Ultralytics_API.infer(/Users/kamangir/storage/abcli/2024-01-11-18-18-04-55658/georgiaE.jpg)\n",
                        "vancouver_watching.ai.infer(/Users/kamangir/storage/abcli/2024-01-11-18-18-04-55658/georgiaE.jpg) failed, status_code: 429, reason: Too Many Requests.\n"
                    ]
                },
                {
                    "ename": "AssertionError",
                    "evalue": "",
                    "output_type": "error",
                    "traceback": [
                        "\u001b[0;31m---------------------------------------------------------------------------\u001b[0m",
                        "\u001b[0;31mAssertionError\u001b[0m                            Traceback (most recent call last)",
                        "Cell \u001b[0;32mIn[8], line 2\u001b[0m\n\u001b[1;32m      1\u001b[0m success, response_dict \u001b[38;5;241m=\u001b[39m ultralytics_api\u001b[38;5;241m.\u001b[39minfer(image_filename)\n\u001b[0;32m----> 2\u001b[0m \u001b[38;5;28;01massert\u001b[39;00m success\n\u001b[1;32m      3\u001b[0m \u001b[38;5;66;03m# response_dict\u001b[39;00m\n",
                        "\u001b[0;31mAssertionError\u001b[0m: "
                    ]
                }
            ],
            "source": [
                "success, response_dict = ultralytics_api.infer(image_filename)\n",
                "assert success\n",
                "# response_dict"
            ]
        },
        {
            "cell_type": "code",
            "execution_count": null,
            "metadata": {},
            "outputs": [],
            "source": [
                "plt.figure(figsize=(10,10))\n",
                "plt.imshow(ultralytics_api.render(\n",
                "    file.load_image(image_filename)[1].copy(),\n",
                "    response_dict\n",
                "))\n",
                "plt.show()"
            ]
        },
        {
            "attachments": {},
            "cell_type": "markdown",
            "metadata": {},
            "source": [
                "---"
            ]
        },
        {
            "cell_type": "code",
            "execution_count": null,
            "metadata": {},
            "outputs": [],
            "source": [
                "%%bash -s $object_name\n",
                "source ~/git/awesome-bash-cli/bash/abcli.sh in_notebook\n",
                "\n",
                "object_name=$1\n",
                "\n",
                "abcli select $object_name\n",
                "abcli tag set . built_by_notebook\n",
                "abcli upload"
            ]
        },
        {
            "cell_type": "code",
            "execution_count": null,
            "metadata": {},
            "outputs": [],
            "source": [
                "seed.log(object_name)"
            ]
        },
        {
            "cell_type": "code",
            "execution_count": null,
            "metadata": {},
            "outputs": [],
            "source": [
                "# END"
            ]
        }
    ],
    "metadata": {
        "kernelspec": {
            "display_name": "Python 3 (ipykernel)",
            "language": "python",
            "name": "python3"
        },
        "language_info": {
            "codemirror_mode": {
                "name": "ipython",
                "version": 3
            },
            "file_extension": ".py",
            "mimetype": "text/x-python",
            "name": "python",
            "nbconvert_exporter": "python",
            "pygments_lexer": "ipython3",
            "version": "3.11.7"
        },
        "toc": {
            "base_numbering": 1,
            "nav_menu": {},
            "number_sections": true,
            "sideBar": true,
            "skip_h1_title": false,
            "title_cell": "Table of Contents",
            "title_sidebar": "Contents",
            "toc_cell": false,
            "toc_position": {},
            "toc_section_display": true,
            "toc_window_display": false
        }
    },
    "nbformat": 4,
    "nbformat_minor": 2
}
